{
 "cells": [
  {
   "cell_type": "markdown",
   "metadata": {},
   "source": [
    "## Script to provide dipole moment analysis for every microstate"
   ]
  },
  {
   "cell_type": "markdown",
   "metadata": {},
   "source": [
    "For using this script, you need to have these files in your work folder: **ms.dat, head3.lst, fort.38, step2_out.pdb**. Also, before use this script you should install the pymcce package from anaconda: link_here_"
   ]
  },
  {
   "cell_type": "markdown",
   "metadata": {},
   "source": [
    "#### 1. import the modules you need"
   ]
  },
  {
   "cell_type": "code",
   "execution_count": null,
   "metadata": {
    "collapsed": true
   },
   "outputs": [],
   "source": [
    "import os\n",
    "import sys\n",
    "import numpy as np\n",
    "from scipy import stats\n",
    "from pymcce.automated_mcce import MCCEParams\n",
    "from pymcce.mcce_simulation import Simulation\n",
    "from pymcce.utils import write_watpdb_from_coords, get_last_prot_at_index\n",
    "\n",
    "import matplotlib as mpl\n",
    "mpl.use(\"Agg\")\n",
    "import matplotlib.pyplot as plt\n",
    "import pylab\n",
    "import seaborn as sns\n",
    "from sklearn.neighbors import KernelDensity\n",
    "from numpy import *\n",
    "import pandas as pd"
   ]
  },
  {
   "cell_type": "markdown",
   "metadata": {},
   "source": [
    "#### 2. Give the work directory here"
   ]
  },
  {
   "cell_type": "markdown",
   "metadata": {},
   "source": [
    "* **data_dir**: path for your directory\n",
    "* **prefix**: name of your work folder"
   ]
  },
  {
   "cell_type": "code",
   "execution_count": null,
   "metadata": {
    "collapsed": true
   },
   "outputs": [],
   "source": [
    "data_dir = '/home/yzhang/Dropbox/ProtonHopping/data/gramicidin/simulations/input_struct_dp_groups_positive_t3p'\n",
    "prefix = \"run_restart200_000001_1_update\" \n",
    "print(\"Processing %s:\" % prefix)\n",
    "mu = []\n",
    "ab_indices = []\n",
    "n_wat = []"
   ]
  },
  {
   "cell_type": "markdown",
   "metadata": {},
   "source": [
    "#### 3. Read all the information about the protein and the microstate in."
   ]
  },
  {
   "cell_type": "code",
   "execution_count": null,
   "metadata": {
    "collapsed": true
   },
   "outputs": [],
   "source": [
    "# load information about the protein and all the mocrostate\n",
    "msdat = os.path.join(data_dir, prefix, \"ms.dat\")\n",
    "head3lst = os.path.join(data_dir, prefix, \"head3.lst\")\n",
    "fort38 = os.path.join(data_dir, prefix, \"fort.38\")\n",
    "step2out = os.path.join(data_dir, prefix, \"step2_out.pdb\")"
   ]
  },
  {
   "cell_type": "markdown",
   "metadata": {},
   "source": [
    "#### 4. Using the Simulation fuction in pymcce to parse all the microstates and calculate the dipole moment for all the residues."
   ]
  },
  {
   "cell_type": "code",
   "execution_count": null,
   "metadata": {
    "collapsed": true
   },
   "outputs": [],
   "source": [
    "msa = Simulation(msdat, head3lst, fort38)\n",
    "msa.parse_trajectory(sample_frequency=10)\n",
    "msa.parse_struct(step2out)\n",
    "conf_dipoles = msa.calculate_dipoles()"
   ]
  },
  {
   "cell_type": "markdown",
   "metadata": {},
   "source": [
    "* If we want to know the dipole moment for any specific residue, we could put the name of the residue here and we can get the dipole moment for x, y, z axis for it.\n",
    "* **numbers** here means how many times stay in every microstate."
   ]
  },
  {
   "cell_type": "code",
   "execution_count": null,
   "metadata": {
    "collapsed": true
   },
   "outputs": [],
   "source": [
    "print(conf_dipoles['HOH01W0233_006'])\n",
    "numbers = zeros(msa.trajectory.shape[0], dtype=\"int64\")"
   ]
  },
  {
   "cell_type": "markdown",
   "metadata": {},
   "source": [
    "#### 5. Go through every microstate and calculate the dipole moment."
   ]
  },
  {
   "cell_type": "code",
   "execution_count": null,
   "metadata": {
    "collapsed": true
   },
   "outputs": [],
   "source": [
    "for i in range(msa.trajectory.shape[0]):\n",
    "    microstate_conf_ids = msa.trajectory[i, :]\n",
    "    numbers[i] = msa.state_counts[i]\n",
    "    dps = []\n",
    "    curr_wat_ids = []\n",
    "    for index, c in enumerate(microstate_conf_ids):\n",
    "        conf_name = msa.conf_id_name_map[c + 1]\n",
    "        if \"DM\" not in conf_name:\n",
    "            dpX = conf_dipoles[conf_name][0]\n",
    "            dpY = conf_dipoles[conf_name][1]\n",
    "            dpZ = conf_dipoles[conf_name][2]\n",
    "            #get the dipole moment for every conformer in each microstate\n",
    "            dps.append([dpX, dpY, dpZ])\n",
    "    # calculate the total dipole moment for all the conformers in each microstate\n",
    "    dps = np.array(dps)\n",
    "    x = sum(dps[:, 0])\n",
    "    dipole_x.append(x)\n",
    "    y = sum(dps[:, 1])\n",
    "    dipole_y.append(y)\n",
    "    z = sum(dps[:, 2])\n",
    "    dipole_z.append(z)\n",
    "# save the dipole information in a csv file\n",
    "dipole_ms = pd.DataFrame({'x': dipole_x, 'y': dipole_y, 'z': dipole_z, 'count': numbers})\n",
    "dipole_ms.to_csv('dipole_microstate.csv')"
   ]
  }
 ],
 "metadata": {
  "kernelspec": {
   "display_name": "Python [anaconda]",
   "language": "python",
   "name": "Python [anaconda]"
  },
  "language_info": {
   "codemirror_mode": {
    "name": "ipython",
    "version": 3
   },
   "file_extension": ".py",
   "mimetype": "text/x-python",
   "name": "python",
   "nbconvert_exporter": "python",
   "pygments_lexer": "ipython3",
   "version": "3.5.6"
  }
 },
 "nbformat": 4,
 "nbformat_minor": 0
}
